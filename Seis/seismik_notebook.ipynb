{
 "cells": [
  {
   "cell_type": "code",
   "execution_count": 1,
   "metadata": {},
   "outputs": [
    {
     "name": "stdout",
     "output_type": "stream",
     "text": [
      "Defaulting to user installation because normal site-packages is not writeable\n",
      "Collecting obspy\n",
      "  Downloading obspy-1.4.0-cp311-cp311-manylinux_2_17_x86_64.manylinux2014_x86_64.whl (14.5 MB)\n",
      "\u001b[2K     \u001b[90m━━━━━━━━━━━━━━━━━━━━━━━━━━━━━━━━━━━━━━━━\u001b[0m \u001b[32m14.5/14.5 MB\u001b[0m \u001b[31m5.8 MB/s\u001b[0m eta \u001b[36m0:00:00\u001b[0m00:01\u001b[0m00:01\u001b[0m\n",
      "\u001b[?25hRequirement already satisfied: numpy>=1.20 in /home/zaptos/.local/lib/python3.11/site-packages (from obspy) (1.23.5)\n",
      "Requirement already satisfied: scipy>=1.7 in /home/zaptos/.local/lib/python3.11/site-packages (from obspy) (1.10.1)\n",
      "Requirement already satisfied: matplotlib>=3.3 in /home/zaptos/.local/lib/python3.11/site-packages (from obspy) (3.7.1)\n",
      "Requirement already satisfied: lxml in /usr/lib64/python3.11/site-packages (from obspy) (4.9.2)\n",
      "Requirement already satisfied: setuptools in /usr/lib/python3.11/site-packages (from obspy) (65.5.1)\n",
      "Requirement already satisfied: sqlalchemy in /home/zaptos/.local/lib/python3.11/site-packages (from obspy) (2.0.16)\n",
      "Requirement already satisfied: decorator in /home/zaptos/.local/lib/python3.11/site-packages (from obspy) (5.1.1)\n",
      "Requirement already satisfied: requests in /usr/lib/python3.11/site-packages (from obspy) (2.28.2)\n",
      "Requirement already satisfied: contourpy>=1.0.1 in /home/zaptos/.local/lib/python3.11/site-packages (from matplotlib>=3.3->obspy) (1.0.7)\n",
      "Requirement already satisfied: cycler>=0.10 in /home/zaptos/.local/lib/python3.11/site-packages (from matplotlib>=3.3->obspy) (0.11.0)\n",
      "Requirement already satisfied: fonttools>=4.22.0 in /home/zaptos/.local/lib/python3.11/site-packages (from matplotlib>=3.3->obspy) (4.39.3)\n",
      "Requirement already satisfied: kiwisolver>=1.0.1 in /home/zaptos/.local/lib/python3.11/site-packages (from matplotlib>=3.3->obspy) (1.4.4)\n",
      "Requirement already satisfied: packaging>=20.0 in /usr/lib/python3.11/site-packages (from matplotlib>=3.3->obspy) (23.0)\n",
      "Requirement already satisfied: pillow>=6.2.0 in /usr/lib64/python3.11/site-packages (from matplotlib>=3.3->obspy) (9.4.0)\n",
      "Requirement already satisfied: pyparsing>=2.3.1 in /home/zaptos/.local/lib/python3.11/site-packages (from matplotlib>=3.3->obspy) (3.0.9)\n",
      "Requirement already satisfied: python-dateutil>=2.7 in /usr/lib/python3.11/site-packages (from matplotlib>=3.3->obspy) (2.8.2)\n",
      "Requirement already satisfied: charset-normalizer<4,>=2 in /usr/lib/python3.11/site-packages (from requests->obspy) (3.1.0)\n",
      "Requirement already satisfied: idna<4,>=2.5 in /usr/lib/python3.11/site-packages (from requests->obspy) (3.4)\n",
      "Requirement already satisfied: urllib3<1.27,>=1.21.1 in /usr/lib/python3.11/site-packages (from requests->obspy) (1.26.15)\n",
      "Requirement already satisfied: typing-extensions>=4.2.0 in /home/zaptos/.local/lib/python3.11/site-packages (from sqlalchemy->obspy) (4.5.0)\n",
      "Requirement already satisfied: greenlet!=0.4.17 in /home/zaptos/.local/lib/python3.11/site-packages (from sqlalchemy->obspy) (2.0.2)\n",
      "Requirement already satisfied: six>=1.5 in /usr/lib/python3.11/site-packages (from python-dateutil>=2.7->matplotlib>=3.3->obspy) (1.16.0)\n",
      "Installing collected packages: obspy\n",
      "Successfully installed obspy-1.4.0\n"
     ]
    }
   ],
   "source": [
    "!pip install obspy"
   ]
  },
  {
   "cell_type": "code",
   "execution_count": null,
   "metadata": {},
   "outputs": [],
   "source": [
    "from google.colab import drive\n",
    "drive.mount('/content/drive')\n",
    "import sys\n",
    "\n",
    "seis_path = '/content/drive/MyDrive/Colab Notebooks/UNF_Fysik_Camp2023/Seis'\n",
    "sys.path.insert(1, seis_path)\n",
    "seis_path += '/Data/'\n",
    "\n",
    "def path_creater(filenames, path):\n",
    "    \"\"\"\n",
    "    Create a path for each file in filenames\n",
    "    \"\"\"\n",
    "    paths = []\n",
    "    for file in filenames:\n",
    "        paths.append(path + file)\n",
    "    return paths"
   ]
  },
  {
   "cell_type": "code",
   "execution_count": 2,
   "metadata": {},
   "outputs": [
    {
     "name": "stdout",
     "output_type": "stream",
     "text": [
      "['55.dat', '56.dat', '57.dat', '58.dat', '59.dat', '60.dat', '61.dat', '62.dat', '63.dat', '64.dat', '65.dat']\n"
     ]
    }
   ],
   "source": [
    "import numpy as np\n",
    "import matplotlib.pyplot as plt\n",
    "import seismik_funktioner\n",
    "filnavne = ['55.dat', '56.dat', '57.dat', '58.dat', '59.dat', '60.dat', '61.dat', '62.dat', '63.dat', '64.dat', '65.dat']\n",
    "filnavne = path_creater(filnavne, seis_path)\n",
    "print(filnavne)"
   ]
  }
 ],
 "metadata": {
  "kernelspec": {
   "display_name": "Python 3",
   "language": "python",
   "name": "python3"
  },
  "language_info": {
   "codemirror_mode": {
    "name": "ipython",
    "version": 3
   },
   "file_extension": ".py",
   "mimetype": "text/x-python",
   "name": "python",
   "nbconvert_exporter": "python",
   "pygments_lexer": "ipython3",
   "version": "3.11.4"
  }
 },
 "nbformat": 4,
 "nbformat_minor": 4
}
