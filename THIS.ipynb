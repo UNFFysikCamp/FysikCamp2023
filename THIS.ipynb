{
 "cells": [
  {
   "attachments": {},
   "cell_type": "markdown",
   "metadata": {},
   "source": [
    "Run this for setup"
   ]
  },
  {
   "cell_type": "code",
   "execution_count": null,
   "metadata": {},
   "outputs": [],
   "source": [
    "from google.colab import drive\n",
    "drive.mount('/content/drive')\n",
    "\n",
    "!rm -rf FysikCamp2023\n",
    "# change the repo name to your repo name\n",
    "!git clone https://github.com/UNFFysikCamp/FysikCamp2023.git\n",
    "\n",
    "!chmod +x FysikCamp2023/bash_script/save_to_drive.sh\n",
    "!./FysikCamp2023/bash_script/save_to_drive.sh"
   ]
  },
  {
   "cell_type": "code",
   "execution_count": null,
   "metadata": {},
   "outputs": [],
   "source": [
    "!cd FysikCamp2023 && git pull\n",
    "!./FysikCamp2023/bash_script/save_to_drive.sh"
   ]
  },
  {
   "cell_type": "code",
   "execution_count": null,
   "metadata": {},
   "outputs": [],
   "source": [
    "1"
   ]
  }
 ],
 "metadata": {
  "language_info": {
   "name": "python"
  },
  "orig_nbformat": 4
 },
 "nbformat": 4,
 "nbformat_minor": 2
}
