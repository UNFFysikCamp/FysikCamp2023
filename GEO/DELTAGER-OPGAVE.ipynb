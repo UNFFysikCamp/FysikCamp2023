{
 "cells": [
  {
   "attachments": {},
   "cell_type": "markdown",
   "metadata": {},
   "source": [
    "$\\Large{\\bf{Introduktion \\ til \\ GF\\ Kode}}$\n",
    "\n",
    "Vi har arbejdet med python før fra programmerings undervisningen. Derfor bliver den kode som i skal anvende i dette kursus noget lignende. \n",
    "\n",
    "For en god ordens skyld kan du allerede åbne det andet dokument, således at du altid har en guide på dig."
   ]
  },
  {
   "attachments": {},
   "cell_type": "markdown",
   "metadata": {},
   "source": [
    "$\\bf{\\large{Pakker}}$\n",
    "\n",
    "I skal bruge følgende pakker:\n",
    "\n",
    "- numpy\n",
    "- subprocess\n",
    "- os\n",
    "- matplotlib.pyplot\n",
    "\n",
    "Dernæst skal følgende funktioner udtrækkes igennnem 'from x import x'\n",
    "\n",
    "eks. \n",
    "\n",
    "from matplotlib.ticker import FixedFormatter\n",
    "\n",
    "følgende funktioner skal udtrækkes:\n",
    "- writemod utræk writemod\n",
    "- fitmodel udtræk fitmodel\n",
    "- laes_model udtræk laes_model\n"
   ]
  },
  {
   "cell_type": "code",
   "execution_count": null,
   "metadata": {},
   "outputs": [],
   "source": [
    "#pakker og funktioner i skal bruge, samt hvordan disse skal indskrives for at udtrække dem\n",
    "from google.colab import drive\n",
    "drive.mount('/content/drive')\n",
    "import sys\n",
    "import os\n",
    "\n",
    "geo_path = '/content/drive/MyDrive/Colab Notebooks/UNF_Fysik_Camp2023/GEO'\n",
    "sys.path.insert(1, geo_path)\n",
    "os.chdir(geo_path)\n",
    "geo_path += '/'\n",
    "import numpy as np\n",
    "from matplotlib.ticker import FixedFormatter\n",
    "\n"
   ]
  },
  {
   "attachments": {},
   "cell_type": "markdown",
   "metadata": {},
   "source": [
    "$\\bf{\\large{Datapunkter}}$\n",
    "\n",
    "I skal nu lave nogle arrays til jeres datapunkter.\n",
    "\n",
    "Først skal vi bruge et array som hedder 'dybde_modeller' hvor   hvor den skal indeholde 3 andre arrays (se eksempel nedenfor). \n",
    "\n",
    "Derefter skal der oprettes et array for resistansen som hedder 'rho_modeller', dette array skal også indeholde 3 arrays."
   ]
  },
  {
   "cell_type": "code",
   "execution_count": null,
   "metadata": {},
   "outputs": [],
   "source": [
    "Eksempel1 = [[1],[2],[3]]"
   ]
  },
  {
   "cell_type": "code",
   "execution_count": null,
   "metadata": {},
   "outputs": [],
   "source": [
    "#Her skriver du dine arrays "
   ]
  },
  {
   "attachments": {},
   "cell_type": "markdown",
   "metadata": {},
   "source": [
    "$\\bf{\\large{Målt \\ Data}}$\n",
    "\n",
    "Nu skal du opskrive et array der indeholder 11 andre arrays. Dette array skal du navngive 'X' "
   ]
  },
  {
   "cell_type": "code",
   "execution_count": null,
   "metadata": {},
   "outputs": [],
   "source": [
    "#Lav array X her\n"
   ]
  },
  {
   "attachments": {},
   "cell_type": "markdown",
   "metadata": {},
   "source": [
    "Det bliver nu lidt mere kode teknisk, nu skal du udtrække en række fra 'X' en smart funktion der kan gøre dette for dig er 'row' funktionen. \n",
    "\n",
    "Se Eksempel"
   ]
  },
  {
   "cell_type": "code",
   "execution_count": null,
   "metadata": {},
   "outputs": [],
   "source": [
    "a_data = [row[0] for row in X]"
   ]
  },
  {
   "attachments": {},
   "cell_type": "markdown",
   "metadata": {},
   "source": [
    "Du skal udtrække det første element af 'X' for hver række, dette array skal kaldes 'Lhalf_data' dernæst skal det samme gøres for det anden element af 'X' array. Dette  array skal kaldes for 'rhoa_data'\n",
    "\n",
    "(ds_sand er et array som skal anvendes for en funktion der skal kaldes senere hen)"
   ]
  },
  {
   "cell_type": "code",
   "execution_count": null,
   "metadata": {},
   "outputs": [],
   "source": [
    "#Skriv arrayed op her\n",
    "Lhaf_data = \n",
    "rho_data =\n",
    "\n",
    "\n",
    "ds_sand=np.empty"
   ]
  },
  {
   "attachments": {},
   "cell_type": "markdown",
   "metadata": {},
   "source": [
    "Derefter vil vi nu opskrive nogle parameter, som skal anvendes senere til at modellere vores data med. \n",
    "- Opret variablerne Lhalf_min, Lhalf_max, f_min,f_max\n",
    "- max værdier skal sættes som 1000x min værdierne"
   ]
  },
  {
   "cell_type": "code",
   "execution_count": null,
   "metadata": {},
   "outputs": [],
   "source": [
    "#indsæt de variable her"
   ]
  },
  {
   "attachments": {},
   "cell_type": "markdown",
   "metadata": {},
   "source": [
    "Vi skal bruge 2 nye variable som hedder 'dybde_modellen, rho_modellen' disse skal defineres ud fra jeres 'dybde- og rho_modeller' hvor der skal køres et 'for' loop over en variabel 'Nmod'.\n",
    "\n",
    "'Nmod' defineres til at være længden af et af de 2 arrays (len(dybde_modeller))\n",
    "\n"
   ]
  },
  {
   "cell_type": "code",
   "execution_count": null,
   "metadata": {},
   "outputs": [],
   "source": [
    "\n",
    "for imod in range(Nmod):\n",
    "\n",
    "    #indsæt dybdemodellen \n",
    "\n",
    "    #Kald Writemod,fit,Laes_model funktionen\n",
    "\n",
    "    #writemod skal bruge jeres dybdemodellen som input ved rho og dybde. \n",
    "    (model1, model2, 'modfil', 'MOD')\n",
    "\n",
    "    #fitmodel skal kaldes som en funktion, ved at kalde en variabel 'fit = funktionen' \n",
    "    \n",
    "\n",
    "    #Laes_model funktionen skal have følgende rækkefølge af variable dybde_modellen,rho_modellen,Lhalf_min,Lhalf_max,fit\n",
    "    Lhalf_model,rho_model =\n",
    "\n",
    "    # Customize the y-axis labels\n",
    "    ax = plt.gca()\n",
    "    ax.loglog()\n",
    "    ax.grid(which='minor', alpha=0.2)\n",
    "    ax.grid(which='major', alpha=0.5)\n",
    "\n",
    "    #indsæt plots her\n",
    "\n",
    "    plt.plot(fit1,fit2,'-', markerfacecolor='none', markeredgecolor=\"rgb\")"
   ]
  }
 ],
 "metadata": {
  "kernelspec": {
   "display_name": "Python 3",
   "language": "python",
   "name": "python3"
  },
  "language_info": {
   "codemirror_mode": {
    "name": "ipython",
    "version": 3
   },
   "file_extension": ".py",
   "mimetype": "text/x-python",
   "name": "python",
   "nbconvert_exporter": "python",
   "pygments_lexer": "ipython3",
   "version": "3.10.10"
  },
  "orig_nbformat": 4
 },
 "nbformat": 4,
 "nbformat_minor": 2
}
